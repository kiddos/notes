{
 "cells": [
  {
   "cell_type": "code",
   "execution_count": 1,
   "id": "783c9e01-3411-4980-8277-097014f72bdb",
   "metadata": {},
   "outputs": [
    {
     "name": "stderr",
     "output_type": "stream",
     "text": [
      "2024-07-14 21:38:18.980222: W external/xla/xla/service/gpu/nvptx_compiler.cc:765] The NVIDIA driver's CUDA version is 12.1 which is older than the ptxas CUDA version (12.5.82). Because the driver is older than the ptxas version, XLA is disabling parallel compilation, which may slow down compilation. You should update your NVIDIA driver or use the NVIDIA-provided CUDA forward compatibility packages.\n"
     ]
    },
    {
     "data": {
      "text/plain": [
       "Array([-2., -2., -2., -2.], dtype=float32)"
      ]
     },
     "execution_count": 1,
     "metadata": {},
     "output_type": "execute_result"
    }
   ],
   "source": [
    "import jax\n",
    "import jax.numpy as jnp\n",
    "\n",
    "x = jnp.arange(6, dtype=jnp.float32)\n",
    "w = jnp.array([1.0, 0.0, -1.0])\n",
    "\n",
    "def convolve(x, w):\n",
    "  output = []\n",
    "  for i in range(1, len(x)-1):\n",
    "    output.append(jnp.dot(x[i-1:i+2], w))\n",
    "  return jnp.array(output)\n",
    "\n",
    "convolve(x, w)"
   ]
  },
  {
   "cell_type": "code",
   "execution_count": 2,
   "id": "4de7aec0-dd85-42b3-a135-97661a09b1de",
   "metadata": {},
   "outputs": [
    {
     "data": {
      "text/plain": [
       "Array([[-2., -2., -2., -2., -2., -2., -2., -2., -2., -2.],\n",
       "       [-4., -4., -4., -4., -4., -4., -4., -4., -4., -4.]], dtype=float32)"
      ]
     },
     "execution_count": 2,
     "metadata": {},
     "output_type": "execute_result"
    }
   ],
   "source": [
    "xs = jnp.stack([jnp.arange(12), jnp.arange(12)])\n",
    "ws = jnp.array([[1.0, 0.0, -1.0], [2.0, 0.0, -2.0]])\n",
    "\n",
    "def manually_batched_convolve(xs, ws):\n",
    "  output = []\n",
    "  for i in range(xs.shape[0]):\n",
    "    output.append(convolve(xs[i], ws[i]))\n",
    "  return jnp.stack(output)\n",
    "\n",
    "manually_batched_convolve(xs, ws)"
   ]
  },
  {
   "cell_type": "code",
   "execution_count": 3,
   "id": "c7ff087c-35ae-421a-9e7d-b5ac826b7ac0",
   "metadata": {},
   "outputs": [
    {
     "name": "stdout",
     "output_type": "stream",
     "text": [
      "7.3 ms ± 104 µs per loop (mean ± std. dev. of 7 runs, 100 loops each)\n"
     ]
    }
   ],
   "source": [
    "%timeit manually_batched_convolve(xs, ws)"
   ]
  },
  {
   "cell_type": "code",
   "execution_count": 4,
   "id": "b0eb6346-d1ea-42b1-9a42-e5afb457e76a",
   "metadata": {},
   "outputs": [
    {
     "name": "stdout",
     "output_type": "stream",
     "text": [
      "11.6 ms ± 173 µs per loop (mean ± std. dev. of 7 runs, 100 loops each)\n"
     ]
    }
   ],
   "source": [
    "auto_batch_convolve = jax.vmap(convolve)\n",
    "\n",
    "auto_batch_convolve(xs, ws)\n",
    "\n",
    "%timeit auto_batch_convolve(xs, ws)"
   ]
  },
  {
   "cell_type": "code",
   "execution_count": 5,
   "id": "7535ea57-e4e4-44f8-b235-8c7a85e2966a",
   "metadata": {},
   "outputs": [
    {
     "name": "stdout",
     "output_type": "stream",
     "text": [
      "28.1 µs ± 456 ns per loop (mean ± std. dev. of 7 runs, 10,000 loops each)\n"
     ]
    }
   ],
   "source": [
    "auto_batch_convolve = jax.jit(jax.vmap(convolve))\n",
    "\n",
    "auto_batch_convolve(xs, ws)\n",
    "\n",
    "%timeit auto_batch_convolve(xs, ws)"
   ]
  },
  {
   "cell_type": "code",
   "execution_count": 6,
   "id": "86741fd6-3878-41e4-819f-8416f64618bc",
   "metadata": {},
   "outputs": [
    {
     "data": {
      "text/plain": [
       "Array([[-2., -4.],\n",
       "       [-2., -4.],\n",
       "       [-2., -4.],\n",
       "       [-2., -4.],\n",
       "       [-2., -4.],\n",
       "       [-2., -4.],\n",
       "       [-2., -4.],\n",
       "       [-2., -4.],\n",
       "       [-2., -4.],\n",
       "       [-2., -4.]], dtype=float32)"
      ]
     },
     "execution_count": 6,
     "metadata": {},
     "output_type": "execute_result"
    }
   ],
   "source": [
    "auto_batch_convolve_v2 = jax.vmap(convolve, in_axes=1, out_axes=1)\n",
    "\n",
    "xt = jnp.transpose(xs)\n",
    "wt = jnp.transpose(ws)\n",
    "\n",
    "auto_batch_convolve_v2(xt, wt)"
   ]
  },
  {
   "cell_type": "code",
   "execution_count": 7,
   "id": "a4b14d2a-697c-4080-8ae5-640f07291b84",
   "metadata": {},
   "outputs": [
    {
     "data": {
      "text/plain": [
       "Array([[-2., -2., -2., -2., -2., -2., -2., -2., -2., -2.],\n",
       "       [-2., -2., -2., -2., -2., -2., -2., -2., -2., -2.]], dtype=float32)"
      ]
     },
     "execution_count": 7,
     "metadata": {},
     "output_type": "execute_result"
    }
   ],
   "source": [
    "batch_convolve_v3 = jax.vmap(convolve, in_axes=[0, None])\n",
    "\n",
    "batch_convolve_v3(xs, w)"
   ]
  },
  {
   "cell_type": "code",
   "execution_count": null,
   "id": "c5d07426-fefc-4a99-a652-ef2005d0a26e",
   "metadata": {},
   "outputs": [],
   "source": []
  }
 ],
 "metadata": {
  "kernelspec": {
   "display_name": "Python 3 (ipykernel)",
   "language": "python",
   "name": "python3"
  },
  "language_info": {
   "codemirror_mode": {
    "name": "ipython",
    "version": 3
   },
   "file_extension": ".py",
   "mimetype": "text/x-python",
   "name": "python",
   "nbconvert_exporter": "python",
   "pygments_lexer": "ipython3",
   "version": "3.11.4"
  }
 },
 "nbformat": 4,
 "nbformat_minor": 5
}
