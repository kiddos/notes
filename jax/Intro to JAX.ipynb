{
 "cells": [
  {
   "cell_type": "markdown",
   "id": "27b67e28",
   "metadata": {},
   "source": [
    "### Basic Operations\n",
    "\n",
    "jax works just like numpy"
   ]
  },
  {
   "cell_type": "code",
   "execution_count": 1,
   "id": "794cffc8",
   "metadata": {},
   "outputs": [],
   "source": [
    "import jax\n",
    "import jax.numpy as jnp\n",
    "from jax import grad, jit, vmap\n",
    "from jax import make_jaxpr\n",
    "import matplotlib.pyplot as plt\n",
    "import numpy as np"
   ]
  },
  {
   "cell_type": "code",
   "execution_count": 2,
   "id": "5be18db9",
   "metadata": {},
   "outputs": [
    {
     "data": {
      "text/plain": [
       "[GpuDevice(id=0, process_index=0)]"
      ]
     },
     "execution_count": 2,
     "metadata": {},
     "output_type": "execute_result"
    }
   ],
   "source": [
    "jax.devices()"
   ]
  },
  {
   "cell_type": "code",
   "execution_count": 3,
   "id": "0e01a7d8",
   "metadata": {},
   "outputs": [
    {
     "name": "stdout",
     "output_type": "stream",
     "text": [
      "(6000, 6000)\n",
      "float32\n"
     ]
    }
   ],
   "source": [
    "key = jax.random.PRNGKey(0)\n",
    "key, subkey = jax.random.split(key)\n",
    "x = jax.random.normal(key, (6000, 6000))\n",
    "\n",
    "print(x.shape)\n",
    "print(x.dtype)"
   ]
  },
  {
   "cell_type": "code",
   "execution_count": 4,
   "id": "b458b1fe",
   "metadata": {},
   "outputs": [],
   "source": [
    "y = jnp.dot(x, x)"
   ]
  },
  {
   "cell_type": "code",
   "execution_count": 5,
   "id": "f47d9f72",
   "metadata": {},
   "outputs": [
    {
     "data": {
      "text/plain": [
       "DeviceArray([[ 0.4998127 , -1.3317223 , -0.5522084 , ...,  0.01004426,\n",
       "              -0.8117858 , -0.8281396 ],\n",
       "             [-0.35801518, -0.32621014,  1.7132124 , ...,  0.3625749 ,\n",
       "               1.8001654 , -2.0449574 ],\n",
       "             [ 0.9117628 ,  1.1438348 , -0.49980953, ...,  0.311994  ,\n",
       "              -0.8187511 , -0.02995207],\n",
       "             ...,\n",
       "             [ 0.5792641 ,  0.016267  , -0.5106685 , ..., -0.2697323 ,\n",
       "              -0.57853466, -1.8184534 ],\n",
       "             [-0.5318769 , -0.1289176 ,  2.024689  , ...,  0.116722  ,\n",
       "              -0.72063017, -1.1613638 ],\n",
       "             [-1.5003437 , -0.4664469 , -0.8971314 , ..., -0.41119874,\n",
       "              -2.311333  ,  2.9782376 ]], dtype=float32)"
      ]
     },
     "execution_count": 5,
     "metadata": {},
     "output_type": "execute_result"
    }
   ],
   "source": [
    "x"
   ]
  },
  {
   "cell_type": "code",
   "execution_count": 6,
   "id": "fdbba48b",
   "metadata": {},
   "outputs": [
    {
     "data": {
      "text/plain": [
       "[<matplotlib.lines.Line2D at 0x7fc0345d9f40>]"
      ]
     },
     "execution_count": 6,
     "metadata": {},
     "output_type": "execute_result"
    },
    {
     "data": {
      "image/png": "[encoded data removed]",
      "text/plain": [
       "<Figure size 432x288 with 1 Axes>"
      ]
     },
     "metadata": {
      "needs_background": "light"
     },
     "output_type": "display_data"
    }
   ],
   "source": [
    "plt.plot(x[0])"
   ]
  },
  {
   "cell_type": "code",
   "execution_count": 7,
   "id": "a03c167c",
   "metadata": {},
   "outputs": [
    {
     "data": {
      "text/plain": [
       "DeviceArray([[5927.12    ,   78.04027 ,  -81.463295, ...,   63.553185,\n",
       "               -10.371366,   32.425232],\n",
       "             [  78.04027 , 6018.1177  , -139.84961 , ...,   41.903152,\n",
       "                48.147327, -123.65237 ],\n",
       "             [ -81.463295, -139.84961 , 6013.67    , ...,   57.741924,\n",
       "               -26.054306,  -47.00108 ],\n",
       "             ...,\n",
       "             [  63.553185,   41.903152,   57.741924, ..., 6099.0757  ,\n",
       "                50.20587 ,   57.242912],\n",
       "             [ -10.371366,   48.147327,  -26.054306, ...,   50.20587 ,\n",
       "              6277.509   ,   36.362843],\n",
       "             [  32.425232, -123.65237 ,  -47.00108 , ...,   57.242912,\n",
       "                36.362843, 5937.1963  ]], dtype=float32)"
      ]
     },
     "execution_count": 7,
     "metadata": {},
     "output_type": "execute_result"
    }
   ],
   "source": [
    "jnp.dot(x, x.T)"
   ]
  },
  {
   "cell_type": "code",
   "execution_count": 8,
   "id": "bb868d41",
   "metadata": {},
   "outputs": [
    {
     "name": "stdout",
     "output_type": "stream",
     "text": [
      "[[[  23.91636   -16.127216 -124.80658  ... -103.90906   175.2278\n",
      "    -51.555264]]\n",
      "\n",
      " [[ -14.273071  143.44484   -65.76409  ...   52.574074   60.481293\n",
      "   -538.29065 ]]\n",
      "\n",
      " [[ 244.34404   287.3951    242.40065  ...   17.675722 -147.4224\n",
      "    109.79217 ]]\n",
      "\n",
      " [[-216.4046    111.084     -12.957062 ...  -39.218285 -179.02426\n",
      "   -301.96716 ]]]\n"
     ]
    }
   ],
   "source": [
    "print(jnp.dot(x, 2*x)[[0, 2, 1, 3], ..., None, ::-1])"
   ]
  },
  {
   "cell_type": "code",
   "execution_count": 9,
   "id": "6f56268d",
   "metadata": {},
   "outputs": [
    {
     "name": "stdout",
     "output_type": "stream",
     "text": [
      "873 ms ± 28.3 ms per loop (mean ± std. dev. of 7 runs, 1 loop each)\n"
     ]
    }
   ],
   "source": [
    "x_cpu = np.array(x)\n",
    "%timeit np.dot(x_cpu, x_cpu)"
   ]
  },
  {
   "cell_type": "code",
   "execution_count": 10,
   "id": "13251353",
   "metadata": {},
   "outputs": [
    {
     "name": "stdout",
     "output_type": "stream",
     "text": [
      "46 ms ± 242 µs per loop (mean ± std. dev. of 7 runs, 100 loops each)\n"
     ]
    }
   ],
   "source": [
    "%timeit jnp.dot(x, x)"
   ]
  },
  {
   "cell_type": "markdown",
   "id": "b4da7055",
   "metadata": {},
   "source": [
    "### Automatic differentiation\n",
    "\n",
    "auto diff is awesome"
   ]
  },
  {
   "cell_type": "code",
   "execution_count": 11,
   "id": "14147584",
   "metadata": {},
   "outputs": [],
   "source": [
    "def f(x):\n",
    "    if x > 0:\n",
    "        return 2 * x ** 3\n",
    "    else:\n",
    "        return 3 * x\n",
    "\n",
    "# print(grad(f)(x))"
   ]
  },
  {
   "cell_type": "code",
   "execution_count": 12,
   "id": "9603259e",
   "metadata": {},
   "outputs": [
    {
     "name": "stdout",
     "output_type": "stream",
     "text": [
      "3.0\n",
      "0.2542262\n"
     ]
    }
   ],
   "source": [
    "key = jax.random.PRNGKey(0)\n",
    "x = jax.random.normal(key, ())\n",
    "print(grad(f)(x))\n",
    "print(grad(f)(-x))"
   ]
  },
  {
   "cell_type": "markdown",
   "id": "96004001",
   "metadata": {},
   "source": [
    "### JIT\n",
    "\n",
    "compiles code at runtime"
   ]
  },
  {
   "cell_type": "code",
   "execution_count": 13,
   "id": "3c80d048",
   "metadata": {},
   "outputs": [],
   "source": [
    "key = jax.random.PRNGKey(0)\n",
    "x = jax.random.normal(key, (6000, 6000))"
   ]
  },
  {
   "cell_type": "code",
   "execution_count": 14,
   "id": "e6890ceb",
   "metadata": {},
   "outputs": [
    {
     "data": {
      "text/plain": [
       "DeviceArray([[19.398893, 20.024015, 19.117048, ..., 19.48173 , 19.180407,\n",
       "              19.871025],\n",
       "             [19.16112 , 19.430737, 19.481922, ..., 19.357027, 19.364452,\n",
       "              19.5716  ],\n",
       "             [19.518349, 19.788479, 19.285992, ..., 19.215948, 19.871754,\n",
       "              19.335398],\n",
       "             ...,\n",
       "             [19.03217 , 19.64658 , 19.146109, ..., 19.552513, 19.378555,\n",
       "              19.378403],\n",
       "             [19.658064, 20.23988 , 19.92258 , ..., 19.214571, 18.5078  ,\n",
       "              19.404537],\n",
       "             [19.936535, 19.23748 , 19.641647, ..., 19.075329, 19.187647,\n",
       "              19.355082]], dtype=float32)"
      ]
     },
     "execution_count": 14,
     "metadata": {},
     "output_type": "execute_result"
    }
   ],
   "source": [
    "def f(x):\n",
    "    y = x\n",
    "    for _ in range(10):\n",
    "        y = y - 0.1 * y + 3\n",
    "    return y[:100, :100]\n",
    "f(x)"
   ]
  },
  {
   "cell_type": "code",
   "execution_count": 15,
   "id": "6d662751",
   "metadata": {},
   "outputs": [
    {
     "data": {
      "text/plain": [
       "DeviceArray([[19.398893, 20.024015, 19.117048, ..., 19.48173 , 19.180407,\n",
       "              19.871025],\n",
       "             [19.16112 , 19.430737, 19.481922, ..., 19.357027, 19.364452,\n",
       "              19.5716  ],\n",
       "             [19.518349, 19.788479, 19.285992, ..., 19.215948, 19.871754,\n",
       "              19.335398],\n",
       "             ...,\n",
       "             [19.03217 , 19.64658 , 19.146109, ..., 19.552513, 19.378555,\n",
       "              19.378403],\n",
       "             [19.658064, 20.23988 , 19.92258 , ..., 19.214571, 18.5078  ,\n",
       "              19.404537],\n",
       "             [19.936535, 19.23748 , 19.641647, ..., 19.075329, 19.187647,\n",
       "              19.355082]], dtype=float32)"
      ]
     },
     "execution_count": 15,
     "metadata": {},
     "output_type": "execute_result"
    }
   ],
   "source": [
    "g = jit(f)\n",
    "g(x)"
   ]
  },
  {
   "cell_type": "code",
   "execution_count": 16,
   "id": "67193e91",
   "metadata": {},
   "outputs": [
    {
     "name": "stdout",
     "output_type": "stream",
     "text": [
      "27.7 ms ± 591 µs per loop (mean ± std. dev. of 7 runs, 10 loops each)\n"
     ]
    }
   ],
   "source": [
    "%timeit f(x)"
   ]
  },
  {
   "cell_type": "code",
   "execution_count": 17,
   "id": "b865ff3a",
   "metadata": {},
   "outputs": [
    {
     "name": "stdout",
     "output_type": "stream",
     "text": [
      "19.9 µs ± 127 ns per loop (mean ± std. dev. of 7 runs, 100000 loops each)\n"
     ]
    }
   ],
   "source": [
    "%timeit g(x)"
   ]
  },
  {
   "cell_type": "markdown",
   "id": "de82fdcf",
   "metadata": {},
   "source": [
    "### vmap\n",
    "\n",
    "like regular map operations.\n",
    "\n",
    "Why use this instead of for loop?\n",
    "\n",
    "it turns the input function into the vectorized function"
   ]
  },
  {
   "cell_type": "code",
   "execution_count": 18,
   "id": "34fc0a04",
   "metadata": {},
   "outputs": [
    {
     "name": "stdout",
     "output_type": "stream",
     "text": [
      "[0 1 2 3 4 5 6 7 8 9]\n",
      "[ 0  1  4  9 16 25 36 49 64 81]\n"
     ]
    }
   ],
   "source": [
    "x = jnp.arange(10)\n",
    "print(x)\n",
    "print(vmap(lambda x : x**2)(x))"
   ]
  },
  {
   "cell_type": "code",
   "execution_count": 19,
   "id": "7b803897",
   "metadata": {},
   "outputs": [
    {
     "data": {
      "text/plain": [
       "{ lambda  ; a b.\n",
       "  let c = dot_general[ dimension_numbers=(((0,), (0,)), ((), ()))\n",
       "                       precision=None\n",
       "                       preferred_element_type=None ] a b\n",
       "  in (c,) }"
      ]
     },
     "execution_count": 19,
     "metadata": {},
     "output_type": "execute_result"
    }
   ],
   "source": [
    "make_jaxpr(jnp.dot)(jnp.ones(10), jnp.ones(10))"
   ]
  },
  {
   "cell_type": "code",
   "execution_count": 20,
   "id": "9fb539c4",
   "metadata": {},
   "outputs": [
    {
     "data": {
      "text/plain": [
       "{ lambda  ; a b.\n",
       "  let c = dot_general[ dimension_numbers=(((1,), (1,)), ((0,), (0,)))\n",
       "                       precision=None\n",
       "                       preferred_element_type=None ] a b\n",
       "  in (c,) }"
      ]
     },
     "execution_count": 20,
     "metadata": {},
     "output_type": "execute_result"
    }
   ],
   "source": [
    "make_jaxpr(vmap(jnp.dot))(jnp.ones((10, 10)), jnp.ones((10, 10)))"
   ]
  },
  {
   "cell_type": "code",
   "execution_count": 21,
   "id": "a9039f7b",
   "metadata": {},
   "outputs": [
    {
     "data": {
      "text/plain": [
       "{ lambda  ; a b.\n",
       "  let c = dot_general[ dimension_numbers=(((2,), (2,)), ((0, 1), (0, 1)))\n",
       "                       precision=None\n",
       "                       preferred_element_type=None ] a b\n",
       "  in (c,) }"
      ]
     },
     "execution_count": 21,
     "metadata": {},
     "output_type": "execute_result"
    }
   ],
   "source": [
    "make_jaxpr(vmap(vmap(jnp.dot)))(jnp.ones((10, 10, 10)), jnp.ones((10, 10, 10)))"
   ]
  },
  {
   "cell_type": "code",
   "execution_count": null,
   "id": "3150b637",
   "metadata": {},
   "outputs": [],
   "source": []
  }
 ],
 "metadata": {
  "kernelspec": {
   "display_name": "Python 3",
   "language": "python",
   "name": "python3"
  },
  "language_info": {
   "codemirror_mode": {
    "name": "ipython",
    "version": 3
   },
   "file_extension": ".py",
   "mimetype": "text/x-python",
   "name": "python",
   "nbconvert_exporter": "python",
   "pygments_lexer": "ipython3",
   "version": "3.8.10"
  }
 },
 "nbformat": 4,
 "nbformat_minor": 5
}
