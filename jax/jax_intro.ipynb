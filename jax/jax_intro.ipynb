{
 "cells": [
  {
   "cell_type": "code",
   "execution_count": 1,
   "id": "794cffc8",
   "metadata": {},
   "outputs": [
    {
     "name": "stdout",
     "output_type": "stream",
     "text": [
      "[0 1 2 3 4 5 6 7 8 9]\n"
     ]
    },
    {
     "name": "stderr",
     "output_type": "stream",
     "text": [
      "2024-07-14 21:39:34.069461: W external/xla/xla/service/gpu/nvptx_compiler.cc:765] The NVIDIA driver's CUDA version is 12.1 which is older than the ptxas CUDA version (12.5.82). Because the driver is older than the ptxas version, XLA is disabling parallel compilation, which may slow down compilation. You should update your NVIDIA driver or use the NVIDIA-provided CUDA forward compatibility packages.\n"
     ]
    }
   ],
   "source": [
    "import jax\n",
    "import jax.numpy as jnp\n",
    "\n",
    "x = jnp.arange(10)\n",
    "print(x)"
   ]
  },
  {
   "cell_type": "code",
   "execution_count": 2,
   "id": "5be18db9",
   "metadata": {},
   "outputs": [
    {
     "data": {
      "text/plain": [
       "[cuda(id=0)]"
      ]
     },
     "execution_count": 2,
     "metadata": {},
     "output_type": "execute_result"
    }
   ],
   "source": [
    "jax.devices()"
   ]
  },
  {
   "cell_type": "code",
   "execution_count": 3,
   "id": "473f7fe5-18bb-44b4-821c-f0a06c114bd7",
   "metadata": {},
   "outputs": [
    {
     "data": {
      "text/plain": [
       "Array([0, 1, 2, 3, 4, 5, 6, 7, 8, 9], dtype=int32)"
      ]
     },
     "execution_count": 3,
     "metadata": {},
     "output_type": "execute_result"
    }
   ],
   "source": [
    "x"
   ]
  },
  {
   "cell_type": "code",
   "execution_count": 4,
   "id": "698e76eb-8f85-4778-8bff-f9118922151a",
   "metadata": {},
   "outputs": [],
   "source": [
    "import numpy as np\n",
    "\n",
    "size = int(2e7)\n",
    "v1 = np.arange(size)\n",
    "v2 = jnp.arange(size)"
   ]
  },
  {
   "cell_type": "code",
   "execution_count": 5,
   "id": "5474b125-8233-435c-98e0-a05756783e16",
   "metadata": {},
   "outputs": [
    {
     "name": "stdout",
     "output_type": "stream",
     "text": [
      "13.2 ms ± 428 µs per loop (mean ± std. dev. of 7 runs, 100 loops each)\n"
     ]
    }
   ],
   "source": [
    "%timeit np.dot(v1, v1)"
   ]
  },
  {
   "cell_type": "code",
   "execution_count": 6,
   "id": "599ba280-d2c2-4c47-91f1-29a98339e05e",
   "metadata": {},
   "outputs": [
    {
     "name": "stdout",
     "output_type": "stream",
     "text": [
      "284 µs ± 33.5 µs per loop (mean ± std. dev. of 7 runs, 1,000 loops each)\n"
     ]
    }
   ],
   "source": [
    "%timeit jnp.dot(v2, v2).block_until_ready()"
   ]
  },
  {
   "cell_type": "code",
   "execution_count": 7,
   "id": "7a55971b-5a64-4ccc-bf16-617ff3fb289e",
   "metadata": {},
   "outputs": [
    {
     "name": "stdout",
     "output_type": "stream",
     "text": [
      "2.6666663e+21\n",
      "[0.0000000e+00 2.0000000e+00 4.0000000e+00 ... 3.9999992e+07 3.9999996e+07\n",
      " 4.0000000e+07]\n"
     ]
    }
   ],
   "source": [
    "def f(x):\n",
    "  return jnp.sum(x**2)\n",
    "\n",
    "\n",
    "df = jax.grad(f)\n",
    "x = jnp.arange(size).astype(jnp.float32)\n",
    "\n",
    "print(f(x))\n",
    "print(df(x))"
   ]
  },
  {
   "cell_type": "code",
   "execution_count": 8,
   "id": "f3b160a2-9f65-45a3-bd71-cb35ea72c39c",
   "metadata": {},
   "outputs": [
    {
     "name": "stdout",
     "output_type": "stream",
     "text": [
      "[-1.0544010e+00  1.6918590e+00  1.6895866e+00 ...  3.9999996e+07\n",
      "  3.9999996e+07  4.0000000e+07]\n"
     ]
    }
   ],
   "source": [
    "from jax import random\n",
    "\n",
    "def g(x, y):\n",
    "  return jnp.sum((x-y)**2)\n",
    "\n",
    "dg = jax.grad(g)\n",
    "\n",
    "key = random.PRNGKey(0)\n",
    "y = random.normal(key, [size])\n",
    "\n",
    "print(dg(x, y))"
   ]
  },
  {
   "cell_type": "code",
   "execution_count": 9,
   "id": "466671ec-c0d0-4f75-94b4-447ac5fcc3fe",
   "metadata": {},
   "outputs": [
    {
     "name": "stdout",
     "output_type": "stream",
     "text": [
      "0.41845703\n",
      "0.41845703\n",
      "0.41845703\n",
      "0.5572065\n",
      "0.10536897\n"
     ]
    }
   ],
   "source": [
    "a = random.uniform(key)\n",
    "print(a)\n",
    "b = random.uniform(key)\n",
    "print(b)  # same as a\n",
    "c = random.uniform(key)\n",
    "print(c)  # still the same\n",
    "\n",
    "# need to call `random.split` to get new random number\n",
    "key, subkey = random.split(key)\n",
    "d = random.uniform(key)\n",
    "print(d)\n",
    "e = random.uniform(subkey)\n",
    "print(e)"
   ]
  },
  {
   "cell_type": "code",
   "execution_count": 10,
   "id": "c67e6acf-6b31-4943-a3cb-3fed4c5a7c6f",
   "metadata": {},
   "outputs": [
    {
     "data": {
      "text/plain": [
       "(Array(2.6666663e+21, dtype=float32),\n",
       " Array([-1.0544010e+00,  1.6918590e+00,  1.6895866e+00, ...,\n",
       "         3.9999996e+07,  3.9999996e+07,  4.0000000e+07], dtype=float32))"
      ]
     },
     "execution_count": 10,
     "metadata": {},
     "output_type": "execute_result"
    }
   ],
   "source": [
    "# this gives both value and gradients\n",
    "jax.value_and_grad(g)(x, y)"
   ]
  },
  {
   "cell_type": "code",
   "execution_count": 11,
   "id": "7d1350e4-306a-4e30-ba33-df47f9d26e25",
   "metadata": {},
   "outputs": [
    {
     "data": {
      "text/plain": [
       "(Array([-1.0544010e+00,  1.6918590e+00,  1.6895866e+00, ...,\n",
       "         3.9999996e+07,  3.9999996e+07,  4.0000000e+07], dtype=float32),\n",
       " Array([-5.2720052e-01,  8.4592950e-01,  8.4479332e-01, ...,\n",
       "         1.9999998e+07,  1.9999998e+07,  2.0000000e+07], dtype=float32))"
      ]
     },
     "execution_count": 11,
     "metadata": {},
     "output_type": "execute_result"
    }
   ],
   "source": [
    "def g2(x, y):\n",
    "  return g(x, y), x-y\n",
    "\n",
    "jax.grad(g2, has_aux=True)(x, y)"
   ]
  },
  {
   "cell_type": "code",
   "execution_count": 12,
   "id": "a37d8221-b989-4243-980c-fa8e49fbb0cc",
   "metadata": {},
   "outputs": [
    {
     "name": "stdout",
     "output_type": "stream",
     "text": [
      "[1 2 3]\n",
      "[  1 666   3]\n"
     ]
    }
   ],
   "source": [
    "a1 = jnp.array([1, 2, 3])\n",
    "\n",
    "\n",
    "def change(arr):\n",
    "  return a1.at[1].set(666)\n",
    "\n",
    "a2 = change(a1)\n",
    "print(a1)\n",
    "print(a2)"
   ]
  },
  {
   "cell_type": "code",
   "execution_count": 13,
   "id": "9d860989-4fda-4962-befa-c197d3795f18",
   "metadata": {},
   "outputs": [
    {
     "data": {
      "text/plain": [
       "<matplotlib.collections.PathCollection at 0x7fa064a4a790>"
      ]
     },
     "execution_count": 13,
     "metadata": {},
     "output_type": "execute_result"
    },
    {
     "data": {
      "image/png": "[encoded data removed]",
      "text/plain": [
       "<Figure size 640x480 with 1 Axes>"
      ]
     },
     "metadata": {},
     "output_type": "display_data"
    }
   ],
   "source": [
    "import matplotlib.pyplot as plt\n",
    "\n",
    "key = random.PRNGKey(666)\n",
    "xs = random.normal(key, (100,))\n",
    "key, _ = random.split(key)\n",
    "noise = random.normal(key, (100,)) * 0.1\n",
    "ys = xs * 3 - 1.5 + noise\n",
    "\n",
    "plt.scatter(xs, ys)"
   ]
  },
  {
   "cell_type": "code",
   "execution_count": 14,
   "id": "3c80d048",
   "metadata": {},
   "outputs": [
    {
     "data": {
      "text/plain": [
       "Array([ 2.9894981, -1.5130677], dtype=float32)"
      ]
     },
     "execution_count": 14,
     "metadata": {},
     "output_type": "execute_result"
    }
   ],
   "source": [
    "def f(A, xs):\n",
    "  return A[0] * xs + A[1]\n",
    "\n",
    "def loss_fn(A, xs, ys):\n",
    "  y = f(A, xs)\n",
    "  return jnp.mean((y - ys) ** 2)\n",
    "\n",
    "def grad_descent(xs, ys):\n",
    "  d_error = jax.grad(loss_fn)\n",
    "\n",
    "  A = jnp.array([1.0, 1.0])\n",
    "  alpha = 1e-1\n",
    "  for i in range(100):\n",
    "    gradients = d_error(A, xs, ys)\n",
    "    A -= alpha * gradients\n",
    "  return A\n",
    "\n",
    "A = grad_descent(xs, ys)\n",
    "A"
   ]
  },
  {
   "cell_type": "code",
   "execution_count": 15,
   "id": "1c5812d9-e375-47cb-afe2-d647067ad1cd",
   "metadata": {},
   "outputs": [
    {
     "data": {
      "text/plain": [
       "[<matplotlib.lines.Line2D at 0x7fa064935310>]"
      ]
     },
     "execution_count": 15,
     "metadata": {},
     "output_type": "execute_result"
    },
    {
     "data": {
      "image/png": "[encoded data removed]",
      "text/plain": [
       "<Figure size 640x480 with 1 Axes>"
      ]
     },
     "metadata": {},
     "output_type": "display_data"
    }
   ],
   "source": [
    "plt.scatter(xs, ys)\n",
    "plt.plot(xs, f(A, xs))"
   ]
  }
 ],
 "metadata": {
  "kernelspec": {
   "display_name": "Python 3 (ipykernel)",
   "language": "python",
   "name": "python3"
  },
  "language_info": {
   "codemirror_mode": {
    "name": "ipython",
    "version": 3
   },
   "file_extension": ".py",
   "mimetype": "text/x-python",
   "name": "python",
   "nbconvert_exporter": "python",
   "pygments_lexer": "ipython3",
   "version": "3.11.4"
  }
 },
 "nbformat": 4,
 "nbformat_minor": 5
}
