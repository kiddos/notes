{
 "cells": [
  {
   "cell_type": "code",
   "execution_count": 1,
   "id": "0aa2f425-d193-4e2e-b1da-ddf2f99476b3",
   "metadata": {},
   "outputs": [
    {
     "name": "stdout",
     "output_type": "stream",
     "text": [
      "Cloning into 'mupdf'...\n",
      "remote: Enumerating objects: 1224, done.\u001b[K\n",
      "remote: Counting objects: 100% (1224/1224), done.\u001b[K\n",
      "remote: Compressing objects: 100% (1073/1073), done.\u001b[K\n",
      "remote: Total 1224 (delta 215), reused 543 (delta 130), pack-reused 0 (from 0)\u001b[K\n",
      "Receiving objects: 100% (1224/1224), 38.29 MiB | 12.27 MiB/s, done.\n",
      "Resolving deltas: 100% (215/215), done.\n",
      "Note: switching to '5d61c9df9c5d72520335898ce53046aa53a4e8a7'.\n",
      "\n",
      "You are in 'detached HEAD' state. You can look around, make experimental\n",
      "changes and commit them, and you can discard any commits you make in this\n",
      "state without impacting any branches by switching back to a branch.\n",
      "\n",
      "If you want to create a new branch to retain commits you create, you may\n",
      "do so (now or later) by using -c with the switch command. Example:\n",
      "\n",
      "  git switch -c <new-branch-name>\n",
      "\n",
      "Or undo this operation with:\n",
      "\n",
      "  git switch -\n",
      "\n",
      "Turn off this advice by setting config variable advice.detachedHead to false\n",
      "\n"
     ]
    }
   ],
   "source": [
    "!git clone --depth=1 --branch 1.25.1 https://github.com/ArtifexSoftware/mupdf"
   ]
  },
  {
   "cell_type": "code",
   "execution_count": 5,
   "id": "993d98ea-2932-40ad-9e91-c9ee85a4ab6f",
   "metadata": {},
   "outputs": [
    {
     "name": "stdout",
     "output_type": "stream",
     "text": [
      "521\n"
     ]
    }
   ],
   "source": [
    "from langchain.document_loaders import TextLoader\n",
    "from pathlib import Path\n",
    "from itertools import chain\n",
    "\n",
    "source_dir = Path('./mupdf')\n",
    "\n",
    "def load_cpp_files(source_dir):\n",
    "    docs = []\n",
    "    patterns = ['.c', '.h', '.cc', '.cpp']\n",
    "    for pattern in patterns:\n",
    "        for filepath in source_dir.glob(f'**/*{pattern}'):\n",
    "            loader = TextLoader(filepath, encoding='latin1')\n",
    "            docs.append(loader.load())\n",
    "    return docs\n",
    "\n",
    "\n",
    "cpp_docs = load_cpp_files(source_dir)\n",
    "print(len(cpp_docs))"
   ]
  },
  {
   "cell_type": "code",
   "execution_count": 7,
   "id": "bcd576f3-4189-4d8c-ba0b-b3993da487d2",
   "metadata": {
    "scrolled": true
   },
   "outputs": [
    {
     "name": "stdout",
     "output_type": "stream",
     "text": [
      "19740\n"
     ]
    }
   ],
   "source": [
    "from langchain.text_splitter import RecursiveCharacterTextSplitter\n",
    "\n",
    "chunk_size = 1000\n",
    "chunk_overlap = 200\n",
    "def split_docs(docs):\n",
    "    text_splitter = RecursiveCharacterTextSplitter(\n",
    "        chunk_size=chunk_size,\n",
    "        chunk_overlap=chunk_overlap,\n",
    "    )\n",
    "    return text_splitter.split_documents(docs)\n",
    "\n",
    "docs_list = [item for sublist in cpp_docs for item in sublist]\n",
    "chunked_docs = split_docs(docs_list)\n",
    "print(len(chunked_docs))"
   ]
  },
  {
   "cell_type": "code",
   "execution_count": 4,
   "id": "7b47644a-9ffc-4bdf-8e79-20f013fb7d12",
   "metadata": {},
   "outputs": [],
   "source": [
    "rm -rf cpp_code_index"
   ]
  },
  {
   "cell_type": "code",
   "execution_count": 8,
   "id": "b078f076-7b21-488a-9f90-020264ee0cb3",
   "metadata": {},
   "outputs": [],
   "source": [
    "from langchain.vectorstores import FAISS\n",
    "from langchain_ollama import OllamaEmbeddings\n",
    "\n",
    "embeddings = OllamaEmbeddings(model=\"nomic-embed-text\")\n",
    "vectorstore = FAISS.from_documents(chunked_docs, embeddings)\n",
    "vectorstore.save_local(\"cpp_code_index\")"
   ]
  },
  {
   "cell_type": "code",
   "execution_count": 13,
   "id": "1ae1539d-2ff4-4e9f-9167-7304a756bb4b",
   "metadata": {
    "scrolled": true
   },
   "outputs": [
    {
     "name": "stdout",
     "output_type": "stream",
     "text": [
      "{'query': 'how to create a new PDF using mupdf library?', 'result': 'Based on the provided context, here\\'s an example of how you can create a new PDF using the MuPDF library:\\n\\n```c\\n#include \"mupdf/fitz/display-list.h\"\\n#include \"mupdf/pdf/document.h\"\\n\\nint main() {\\n    fz_context *ctx = fz_new_context(NULL, NULL, FZ_STORE_DEFAULT);\\n    if (!ctx) {\\n        fprintf(stderr, \"Could not create global context.\\\\n\");\\n        return EXIT_FAILURE;\\n    }\\n\\n    /* Register the document handlers (only really need PDF, but this is\\n     * the simplest way. */\\n    fz_register_document_handlers(ctx);\\n\\n    fz_try(ctx) {\\n        /* Create a new PDF document with one page. */\\n        pdf_document *pdf = pdf_new_document(ctx, 1);\\n        if (!pdf) {\\n            fprintf(stderr, \"Could not create PDF document.\\\\n\");\\n            return EXIT_FAILURE;\\n        }\\n\\n        /* Get the first page of the document. */\\n        pdf_page *page = pdf_get_page(ctx, pdf, 0);\\n\\n        /* Create a new font object for the page. */\\n        pdf_font *font = pdf_new_font(ctx, \"Helvetica\", 12);\\n        if (!font) {\\n            fprintf(stderr, \"Could not create font.\\\\n\");\\n            return EXIT_FAILURE;\\n        }\\n\\n        /* Draw some text on the page using the font. */\\n        fz_matrix matrix = FZidentity;\\n        fz_ostream *out = pdf_stream_from_fz_context(ctx, &matrix);\\n        if (!out) {\\n            fprintf(stderr, \"Could not create output stream.\\\\n\");\\n            return EXIT_FAILURE;\\n        }\\n\\n        /* Write some text to the page. */\\n        char *text = \"Hello, World!\";\\n        pdf_write_text(ctx, out, font, 100, 700, text);\\n\\n        /* Save the document to a file. */\\n        char *outputfile = \"example.pdf\";\\n        pdf_save_document(ctx, pdf, outputfile, NULL);\\n    }\\n    fz_always(ctx) {\\n        // Clean up\\n    }\\n    fz_catch(ctx) {\\n        // Handle any errors that occurred during PDF creation.\\n        fz_report_error(ctx);\\n        return EXIT_FAILURE;\\n    }\\n\\n    return 0;\\n}\\n```\\n\\nThis code creates a new MuPDF context, registers the document handlers, and then uses these to create a new PDF document with one page. It sets up a font object for the page, draws some text on it using this font, and finally saves the document to a file named \"example.pdf\".\\n\\nNote that you\\'ll need to link against the MuPDF library when compiling this code. The exact command will depend on your build system and environment.\\n\\nAlso note that this is just an example of how to create a new PDF using MuPDF. You may want to add more features, such as handling errors or adding additional pages to the document.'}\n"
     ]
    }
   ],
   "source": [
    "from langchain.chains import RetrievalQA\n",
    "from langchain_ollama import ChatOllama\n",
    "\n",
    "# Set up the QA chain\n",
    "model = 'llama3.1'\n",
    "qa_chain = RetrievalQA.from_chain_type(\n",
    "    llm=ChatOllama(model=model, temperature=0.0),\n",
    "    retriever=vectorstore.as_retriever(),\n",
    ")\n",
    "\n",
    "# Ask a question\n",
    "query = \"how to create a new PDF using mupdf library?\"\n",
    "answer = qa_chain.invoke(query)\n",
    "print(answer)"
   ]
  },
  {
   "cell_type": "code",
   "execution_count": 14,
   "id": "fd80827d-6c0a-4084-9a6b-c278b21d2645",
   "metadata": {},
   "outputs": [
    {
     "name": "stdout",
     "output_type": "stream",
     "text": [
      "Based on the provided context, here's an example of how you can create a new PDF using the MuPDF library:\n",
      "\n",
      "```c\n",
      "#include \"mupdf/fitz/display-list.h\"\n",
      "#include \"mupdf/pdf/document.h\"\n",
      "\n",
      "int main() {\n",
      "    fz_context *ctx = fz_new_context(NULL, NULL, FZ_STORE_DEFAULT);\n",
      "    if (!ctx) {\n",
      "        fprintf(stderr, \"Could not create global context.\\n\");\n",
      "        return EXIT_FAILURE;\n",
      "    }\n",
      "\n",
      "    /* Register the document handlers (only really need PDF, but this is\n",
      "     * the simplest way. */\n",
      "    fz_register_document_handlers(ctx);\n",
      "\n",
      "    fz_try(ctx) {\n",
      "        /* Create a new PDF document with one page. */\n",
      "        pdf_document *pdf = pdf_new_document(ctx, 1);\n",
      "        if (!pdf) {\n",
      "            fprintf(stderr, \"Could not create PDF document.\\n\");\n",
      "            return EXIT_FAILURE;\n",
      "        }\n",
      "\n",
      "        /* Get the first page of the document. */\n",
      "        pdf_page *page = pdf_get_page(ctx, pdf, 0);\n",
      "\n",
      "        /* Create a new font object for the page. */\n",
      "        pdf_font *font = pdf_new_font(ctx, \"Helvetica\", 12);\n",
      "        if (!font) {\n",
      "            fprintf(stderr, \"Could not create font.\\n\");\n",
      "            return EXIT_FAILURE;\n",
      "        }\n",
      "\n",
      "        /* Draw some text on the page using the font. */\n",
      "        fz_matrix matrix = FZidentity;\n",
      "        fz_ostream *out = pdf_stream_from_fz_context(ctx, &matrix);\n",
      "        if (!out) {\n",
      "            fprintf(stderr, \"Could not create output stream.\\n\");\n",
      "            return EXIT_FAILURE;\n",
      "        }\n",
      "\n",
      "        /* Write some text to the page. */\n",
      "        char *text = \"Hello, World!\";\n",
      "        pdf_write_text(ctx, out, font, 100, 700, text);\n",
      "\n",
      "        /* Save the document to a file. */\n",
      "        char *outputfile = \"example.pdf\";\n",
      "        pdf_save_document(ctx, pdf, outputfile, NULL);\n",
      "    }\n",
      "    fz_always(ctx) {\n",
      "        // Clean up\n",
      "    }\n",
      "    fz_catch(ctx) {\n",
      "        // Handle any errors that occurred during PDF creation.\n",
      "        fz_report_error(ctx);\n",
      "        return EXIT_FAILURE;\n",
      "    }\n",
      "\n",
      "    return 0;\n",
      "}\n",
      "```\n",
      "\n",
      "This code creates a new MuPDF context, registers the document handlers, and then uses these to create a new PDF document with one page. It sets up a font object for the page, draws some text on it using this font, and finally saves the document to a file named \"example.pdf\".\n",
      "\n",
      "Note that you'll need to link against the MuPDF library when compiling this code. The exact command will depend on your build system and environment.\n",
      "\n",
      "Also note that this is just an example of how to create a new PDF using MuPDF. You may want to add more features, such as handling errors or adding additional pages to the document.\n"
     ]
    }
   ],
   "source": [
    "print(answer['result'])"
   ]
  },
  {
   "cell_type": "code",
   "execution_count": 15,
   "id": "626236c6-47f8-4949-a431-1f590d1229e2",
   "metadata": {},
   "outputs": [
    {
     "name": "stdout",
     "output_type": "stream",
     "text": [
      "{'query': 'how to create a new PDF with an image inside using mupdf library?', 'result': 'Unfortunately, the provided code snippet does not include any functionality for creating a new PDF document or adding images to it. However, based on the MuPDF documentation and other sources, I can guide you through the process.\\n\\nTo create a new PDF with an image inside using the MuPDF library, you would need to:\\n\\n1. Initialize the MuPDF context.\\n2. Create a new PDF document object.\\n3. Add an image to the document\\'s page.\\n4. Save the document to a file.\\n\\nHere is some sample code that demonstrates these steps:\\n```c\\n#include <mupdf/fitz.h>\\n#include <stdio.h>\\n\\nint main(int argc, char **argv)\\n{\\n    fz_context *ctx = fz_new_context(NULL);\\n    if (!ctx) {\\n        return 1;\\n    }\\n\\n    // Create a new PDF document object.\\n    fz_document *doc = fz_new_document(ctx, NULL, 0);\\n    if (!doc) {\\n        fz_drop_context(ctx);\\n        return 1;\\n    }\\n\\n    // Add an image to the first page of the document.\\n    fz_page *page = fz_add_page(doc, 1);\\n    if (!page) {\\n        fz_drop_document(doc);\\n        fz_drop_context(ctx);\\n        return 1;\\n    }\\n\\n    // Load the image file.\\n    char *image_path = \"/path/to/image.jpg\";\\n    fz_image *img = fz_load_image(ctx, image_path);\\n    if (!img) {\\n        fz_drop_page(page);\\n        fz_drop_document(doc);\\n        fz_drop_context(ctx);\\n        return 1;\\n    }\\n\\n    // Add the image to the page.\\n    int x = 100, y = 100; // position of the image\\n    int w = img->w, h = img->h; // size of the image\\n    fz_matrix ctm = {x, y, w, h};\\n    fz_draw_image(ctx, page, img, &ctm);\\n\\n    // Save the document to a file.\\n    char *output_path = \"/path/to/output.pdf\";\\n    if (fz_save_document(ctx, doc, output_path) < 0) {\\n        fz_drop_page(page);\\n        fz_drop_document(doc);\\n        fz_drop_context(ctx);\\n        return 1;\\n    }\\n\\n    // Clean up.\\n    fz_drop_image(img);\\n    fz_drop_page(page);\\n    fz_drop_document(doc);\\n    fz_drop_context(ctx);\\n\\n    return 0;\\n}\\n```\\nNote that this code assumes you have the MuPDF library installed and configured properly. You will also need to replace `\"/path/to/image.jpg\"` with the actual path to your image file, and `\"/path/to/output.pdf\"` with the desired output path for your PDF document.\\n\\nAlso, keep in mind that this is a simplified example and might not cover all possible edge cases or requirements for creating a PDF document. You may need to consult the MuPDF documentation and other resources for more information on how to customize the process.'}\n"
     ]
    }
   ],
   "source": [
    "query = \"how to create a new PDF with an image inside using mupdf library?\"\n",
    "answer = qa_chain.invoke(query)\n",
    "print(answer)"
   ]
  },
  {
   "cell_type": "code",
   "execution_count": 17,
   "id": "04fc8e26-2ec5-437b-ba2f-5fb1df7c5960",
   "metadata": {},
   "outputs": [
    {
     "name": "stdout",
     "output_type": "stream",
     "text": [
      "Unfortunately, the provided code snippet does not include any functionality for creating a new PDF document or adding images to it. However, based on the MuPDF documentation and other sources, I can guide you through the process.\n",
      "\n",
      "To create a new PDF with an image inside using the MuPDF library, you would need to:\n",
      "\n",
      "1. Initialize the MuPDF context.\n",
      "2. Create a new PDF document object.\n",
      "3. Add an image to the document's page.\n",
      "4. Save the document to a file.\n",
      "\n",
      "Here is some sample code that demonstrates these steps:\n",
      "```c\n",
      "#include <mupdf/fitz.h>\n",
      "#include <stdio.h>\n",
      "\n",
      "int main(int argc, char **argv)\n",
      "{\n",
      "    fz_context *ctx = fz_new_context(NULL);\n",
      "    if (!ctx) {\n",
      "        return 1;\n",
      "    }\n",
      "\n",
      "    // Create a new PDF document object.\n",
      "    fz_document *doc = fz_new_document(ctx, NULL, 0);\n",
      "    if (!doc) {\n",
      "        fz_drop_context(ctx);\n",
      "        return 1;\n",
      "    }\n",
      "\n",
      "    // Add an image to the first page of the document.\n",
      "    fz_page *page = fz_add_page(doc, 1);\n",
      "    if (!page) {\n",
      "        fz_drop_document(doc);\n",
      "        fz_drop_context(ctx);\n",
      "        return 1;\n",
      "    }\n",
      "\n",
      "    // Load the image file.\n",
      "    char *image_path = \"/path/to/image.jpg\";\n",
      "    fz_image *img = fz_load_image(ctx, image_path);\n",
      "    if (!img) {\n",
      "        fz_drop_page(page);\n",
      "        fz_drop_document(doc);\n",
      "        fz_drop_context(ctx);\n",
      "        return 1;\n",
      "    }\n",
      "\n",
      "    // Add the image to the page.\n",
      "    int x = 100, y = 100; // position of the image\n",
      "    int w = img->w, h = img->h; // size of the image\n",
      "    fz_matrix ctm = {x, y, w, h};\n",
      "    fz_draw_image(ctx, page, img, &ctm);\n",
      "\n",
      "    // Save the document to a file.\n",
      "    char *output_path = \"/path/to/output.pdf\";\n",
      "    if (fz_save_document(ctx, doc, output_path) < 0) {\n",
      "        fz_drop_page(page);\n",
      "        fz_drop_document(doc);\n",
      "        fz_drop_context(ctx);\n",
      "        return 1;\n",
      "    }\n",
      "\n",
      "    // Clean up.\n",
      "    fz_drop_image(img);\n",
      "    fz_drop_page(page);\n",
      "    fz_drop_document(doc);\n",
      "    fz_drop_context(ctx);\n",
      "\n",
      "    return 0;\n",
      "}\n",
      "```\n",
      "Note that this code assumes you have the MuPDF library installed and configured properly. You will also need to replace `\"/path/to/image.jpg\"` with the actual path to your image file, and `\"/path/to/output.pdf\"` with the desired output path for your PDF document.\n",
      "\n",
      "Also, keep in mind that this is a simplified example and might not cover all possible edge cases or requirements for creating a PDF document. You may need to consult the MuPDF documentation and other resources for more information on how to customize the process.\n"
     ]
    }
   ],
   "source": [
    "print(answer['result'])"
   ]
  },
  {
   "cell_type": "code",
   "execution_count": 18,
   "id": "928f0bfa-448d-4d45-8784-02fa71c4b901",
   "metadata": {},
   "outputs": [
    {
     "name": "stdout",
     "output_type": "stream",
     "text": [
      "{'query': 'is there a c++ binding for mupdf library?', 'result': \"Yes, based on the provided context, it appears that there is a C++ binding for the MuPDF library. The `MuOfficeLib_run` function takes a `void (*fn)(fz_context *ctx, void *arg)` parameter, which suggests that there are functions available in the MuPDF library that can be called from C++. Additionally, the `JMETHOD` macros and the use of `j_common_ptr` and other types suggest that the MuPDF library is being used with a Java Native Interface (JNI) to interact with Java code.\\n\\nHowever, it's worth noting that the provided context does not explicitly state that there is a C++ binding for the MuPDF library. It only shows some function declarations and macros related to the MuOfficeLib and MuPDF libraries.\\n\\nIf you're looking for more information or a specific C++ API documentation for the MuPDF library, I would recommend searching online or checking the official MuPDF website for more details.\"}\n"
     ]
    }
   ],
   "source": [
    "query = \"is there a c++ binding for mupdf library?\"\n",
    "answer = qa_chain.invoke(query)\n",
    "print(answer['result'])"
   ]
  },
  {
   "cell_type": "code",
   "execution_count": 20,
   "id": "541a5dfa-acf9-486f-9690-79827c5450bf",
   "metadata": {},
   "outputs": [
    {
     "name": "stdout",
     "output_type": "stream",
     "text": [
      "The MuPDF C++ binding is not explicitly documented in the provided code snippet. However, based on the context and the `MuOfficeLib_run` function signature, it appears that you can use the MuPDF C++ binding by calling the `MuOfficeLib_run` function with a pointer to a MuPDF function and some opaque data.\n",
      "\n",
      "Here's an example of how you might use the MuPDF C++ binding to render a single page from a PDF document:\n",
      "\n",
      "```cpp\n",
      "int main(int argc, char **argv)\n",
      "{\n",
      "    // Initialize MuPDF context\n",
      "    fz_context *ctx = fz_new_context(NULL);\n",
      "    if (!ctx) {\n",
      "        return 1;\n",
      "    }\n",
      "\n",
      "    // Load the PDF document\n",
      "    char *input = argv[1];\n",
      "    float zoom = atof(argv[3]);\n",
      "    int rotate = atoi(argv[4]);\n",
      "    int page_number = atoi(argv[2]);\n",
      "\n",
      "    fz_document *doc = fz_load_from_file(ctx, input, NULL);\n",
      "    if (!doc) {\n",
      "        return 1;\n",
      "    }\n",
      "\n",
      "    // Get the first page\n",
      "    fz_page *page = fz_get_page(doc, page_number - 1);\n",
      "\n",
      "    // Create a pixmap to render the page into\n",
      "    int width, height;\n",
      "    fz_pixmap *pix = fz_new_pixmap(ctx, NULL, &width, &height);\n",
      "    if (!pix) {\n",
      "        return 1;\n",
      "    }\n",
      "\n",
      "    // Render the page into the pixmap\n",
      "    fz_run_page(ctx, pix, page);\n",
      "\n",
      "    // Print the pixmap as a PPM image to stdout\n",
      "    for (int y = 0; y < height; y++) {\n",
      "        for (int x = 0; x < width; x++) {\n",
      "            int color = fz_get_color(pix, x, y);\n",
      "            printf(\"%d \", color);\n",
      "        }\n",
      "        printf(\"\\n\");\n",
      "    }\n",
      "\n",
      "    // Clean up\n",
      "    fz_drop_pixmap(ctx, pix);\n",
      "    fz_close_document(ctx, doc);\n",
      "    fz_free_context(ctx);\n",
      "\n",
      "    return 0;\n",
      "}\n",
      "```\n",
      "\n",
      "This example assumes that you have compiled the MuPDF library with C++ bindings enabled and linked against it. The `MuOfficeLib_run` function is used to call the MuPDF rendering functions.\n",
      "\n",
      "Note: This code snippet is a simplified example of how to use the MuPDF C++ binding, and may not cover all possible error cases or edge scenarios.\n"
     ]
    }
   ],
   "source": [
    "query = \"how to use the c++ binding for mupdf library?\"\n",
    "answer = qa_chain.invoke(query)\n",
    "print(answer['result'])"
   ]
  },
  {
   "cell_type": "code",
   "execution_count": null,
   "id": "87a72abf-593b-4e07-9d3f-11062c8c35f2",
   "metadata": {},
   "outputs": [],
   "source": []
  }
 ],
 "metadata": {
  "kernelspec": {
   "display_name": "Python 3 (ipykernel)",
   "language": "python",
   "name": "python3"
  },
  "language_info": {
   "codemirror_mode": {
    "name": "ipython",
    "version": 3
   },
   "file_extension": ".py",
   "mimetype": "text/x-python",
   "name": "python",
   "nbconvert_exporter": "python",
   "pygments_lexer": "ipython3",
   "version": "3.12.6"
  }
 },
 "nbformat": 4,
 "nbformat_minor": 5
}
